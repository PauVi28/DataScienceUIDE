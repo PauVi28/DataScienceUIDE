{
 "cells": [
  {
   "cell_type": "markdown",
   "id": "cc83ebb0",
   "metadata": {},
   "source": [
    "# 📘 Sesión 2.1: Acceso y Lectura de Datos en Python"
   ]
  },
  {
   "cell_type": "markdown",
   "id": "b700725a",
   "metadata": {},
   "source": [
    "### 🎯 Objetivos de aprendizaje\n",
    "- Comprender cómo acceder a datos desde múltiples fuentes.\n",
    "- Leer datos en formatos estructurados (CSV, Excel, JSON) y semiestructurados (APIs, SQL).\n",
    "- Aplicar limpieza básica: nombres de columnas, tipos de datos, valores faltantes."
   ]
  },
  {
   "cell_type": "markdown",
   "id": "68956d76",
   "metadata": {},
   "source": [
    "## 1️⃣ Introducción a pandas y lectura de archivos CSV"
   ]
  },
  {
   "cell_type": "code",
   "execution_count": 1,
   "id": "65f17104",
   "metadata": {},
   "outputs": [
    {
     "data": {
      "text/html": [
       "<div>\n",
       "<style scoped>\n",
       "    .dataframe tbody tr th:only-of-type {\n",
       "        vertical-align: middle;\n",
       "    }\n",
       "\n",
       "    .dataframe tbody tr th {\n",
       "        vertical-align: top;\n",
       "    }\n",
       "\n",
       "    .dataframe thead th {\n",
       "        text-align: right;\n",
       "    }\n",
       "</style>\n",
       "<table border=\"1\" class=\"dataframe\">\n",
       "  <thead>\n",
       "    <tr style=\"text-align: right;\">\n",
       "      <th></th>\n",
       "      <th>total_bill</th>\n",
       "      <th>tip</th>\n",
       "      <th>sex</th>\n",
       "      <th>smoker</th>\n",
       "      <th>day</th>\n",
       "      <th>time</th>\n",
       "      <th>size</th>\n",
       "    </tr>\n",
       "  </thead>\n",
       "  <tbody>\n",
       "    <tr>\n",
       "      <th>0</th>\n",
       "      <td>16.99</td>\n",
       "      <td>1.01</td>\n",
       "      <td>Female</td>\n",
       "      <td>No</td>\n",
       "      <td>Sun</td>\n",
       "      <td>Dinner</td>\n",
       "      <td>2</td>\n",
       "    </tr>\n",
       "    <tr>\n",
       "      <th>1</th>\n",
       "      <td>10.34</td>\n",
       "      <td>1.66</td>\n",
       "      <td>Male</td>\n",
       "      <td>No</td>\n",
       "      <td>Sun</td>\n",
       "      <td>Dinner</td>\n",
       "      <td>3</td>\n",
       "    </tr>\n",
       "    <tr>\n",
       "      <th>2</th>\n",
       "      <td>21.01</td>\n",
       "      <td>3.50</td>\n",
       "      <td>Male</td>\n",
       "      <td>No</td>\n",
       "      <td>Sun</td>\n",
       "      <td>Dinner</td>\n",
       "      <td>3</td>\n",
       "    </tr>\n",
       "    <tr>\n",
       "      <th>3</th>\n",
       "      <td>23.68</td>\n",
       "      <td>3.31</td>\n",
       "      <td>Male</td>\n",
       "      <td>No</td>\n",
       "      <td>Sun</td>\n",
       "      <td>Dinner</td>\n",
       "      <td>2</td>\n",
       "    </tr>\n",
       "    <tr>\n",
       "      <th>4</th>\n",
       "      <td>24.59</td>\n",
       "      <td>3.61</td>\n",
       "      <td>Female</td>\n",
       "      <td>No</td>\n",
       "      <td>Sun</td>\n",
       "      <td>Dinner</td>\n",
       "      <td>4</td>\n",
       "    </tr>\n",
       "  </tbody>\n",
       "</table>\n",
       "</div>"
      ],
      "text/plain": [
       "   total_bill   tip     sex smoker  day    time  size\n",
       "0       16.99  1.01  Female     No  Sun  Dinner     2\n",
       "1       10.34  1.66    Male     No  Sun  Dinner     3\n",
       "2       21.01  3.50    Male     No  Sun  Dinner     3\n",
       "3       23.68  3.31    Male     No  Sun  Dinner     2\n",
       "4       24.59  3.61  Female     No  Sun  Dinner     4"
      ]
     },
     "execution_count": 1,
     "metadata": {},
     "output_type": "execute_result"
    }
   ],
   "source": [
    "import pandas as pd\n",
    "\n",
    "# Leer CSV desde URL\n",
    "url_csv = 'https://raw.githubusercontent.com/mwaskom/seaborn-data/master/tips.csv'\n",
    "df_csv = pd.read_csv(url_csv)\n",
    "df_csv.head()"
   ]
  },
  {
   "cell_type": "markdown",
   "id": "83cf160d",
   "metadata": {},
   "source": [
    "Hemos cargado un dataset común llamado `tips` que contiene información sobre propinas en un restaurante. Usamos `pd.read_csv()` para leerlo desde una URL directamente."
   ]
  },
  {
   "cell_type": "markdown",
   "id": "f36315cc",
   "metadata": {},
   "source": [
    "### ****Tarea Adicional para el Estudiante (Compartir Código y Criterios):****\n",
    "\n",
    "*   **Lectura de Otro Dataset:** Utiliza `pd.read_csv()` para cargar otro dataset, por ejemplo, el dataset `iris` o `titanic` (puedes buscar sus URLs en repositorios como Kaggle o directamente en Seaborn).\n",
    "¿Qué parámetros adicionales de `pd.read_csv()` crees que podrían ser útiles en diferentes escenarios (ej. `sep`, `header`, `encoding`)?  "
   ]
  },
  {
   "cell_type": "code",
   "execution_count": null,
   "id": "f7c491f6",
   "metadata": {},
   "outputs": [],
   "source": [
    "# Tu código para cargar otro dataset y tus comentarios aquí"
   ]
  },
  {
   "cell_type": "markdown",
   "id": "aa1dc4c0",
   "metadata": {},
   "source": [
    "## 2️⃣ Exploración inicial del dataset"
   ]
  },
  {
   "cell_type": "code",
   "execution_count": 2,
   "id": "5ecf5e3f",
   "metadata": {},
   "outputs": [
    {
     "name": "stdout",
     "output_type": "stream",
     "text": [
      "Primeras 5 filas del dataset:\n",
      "   total_bill   tip     sex smoker  day    time  size\n",
      "0       16.99  1.01  Female     No  Sun  Dinner     2\n",
      "1       10.34  1.66    Male     No  Sun  Dinner     3\n",
      "2       21.01  3.50    Male     No  Sun  Dinner     3\n",
      "3       23.68  3.31    Male     No  Sun  Dinner     2\n",
      "4       24.59  3.61  Female     No  Sun  Dinner     4\n"
     ]
    }
   ],
   "source": [
    "# Mostrar las primeras 5 filas\n",
    "print(\"Primeras 5 filas del dataset:\")\n",
    "print(df_csv.head())\n"
   ]
  },
  {
   "cell_type": "code",
   "execution_count": 3,
   "id": "83e2e4ef",
   "metadata": {},
   "outputs": [
    {
     "name": "stdout",
     "output_type": "stream",
     "text": [
      "\n",
      "Información general del dataset:\n",
      "<class 'pandas.core.frame.DataFrame'>\n",
      "RangeIndex: 244 entries, 0 to 243\n",
      "Data columns (total 7 columns):\n",
      " #   Column      Non-Null Count  Dtype  \n",
      "---  ------      --------------  -----  \n",
      " 0   total_bill  244 non-null    float64\n",
      " 1   tip         244 non-null    float64\n",
      " 2   sex         244 non-null    object \n",
      " 3   smoker      244 non-null    object \n",
      " 4   day         244 non-null    object \n",
      " 5   time        244 non-null    object \n",
      " 6   size        244 non-null    int64  \n",
      "dtypes: float64(2), int64(1), object(4)\n",
      "memory usage: 13.5+ KB\n"
     ]
    }
   ],
   "source": [
    "# Mostrar información general (tipos de datos, nulos)\n",
    "print(\"\\nInformación general del dataset:\")\n",
    "df_csv.info()"
   ]
  },
  {
   "cell_type": "code",
   "execution_count": 4,
   "id": "7d515185",
   "metadata": {},
   "outputs": [
    {
     "name": "stdout",
     "output_type": "stream",
     "text": [
      "\n",
      "Estadísticas descriptivas:\n"
     ]
    },
    {
     "data": {
      "text/html": [
       "<div>\n",
       "<style scoped>\n",
       "    .dataframe tbody tr th:only-of-type {\n",
       "        vertical-align: middle;\n",
       "    }\n",
       "\n",
       "    .dataframe tbody tr th {\n",
       "        vertical-align: top;\n",
       "    }\n",
       "\n",
       "    .dataframe thead th {\n",
       "        text-align: right;\n",
       "    }\n",
       "</style>\n",
       "<table border=\"1\" class=\"dataframe\">\n",
       "  <thead>\n",
       "    <tr style=\"text-align: right;\">\n",
       "      <th></th>\n",
       "      <th>total_bill</th>\n",
       "      <th>tip</th>\n",
       "      <th>size</th>\n",
       "    </tr>\n",
       "  </thead>\n",
       "  <tbody>\n",
       "    <tr>\n",
       "      <th>count</th>\n",
       "      <td>244.000000</td>\n",
       "      <td>244.000000</td>\n",
       "      <td>244.000000</td>\n",
       "    </tr>\n",
       "    <tr>\n",
       "      <th>mean</th>\n",
       "      <td>19.785943</td>\n",
       "      <td>2.998279</td>\n",
       "      <td>2.569672</td>\n",
       "    </tr>\n",
       "    <tr>\n",
       "      <th>std</th>\n",
       "      <td>8.902412</td>\n",
       "      <td>1.383638</td>\n",
       "      <td>0.951100</td>\n",
       "    </tr>\n",
       "    <tr>\n",
       "      <th>min</th>\n",
       "      <td>3.070000</td>\n",
       "      <td>1.000000</td>\n",
       "      <td>1.000000</td>\n",
       "    </tr>\n",
       "    <tr>\n",
       "      <th>25%</th>\n",
       "      <td>13.347500</td>\n",
       "      <td>2.000000</td>\n",
       "      <td>2.000000</td>\n",
       "    </tr>\n",
       "    <tr>\n",
       "      <th>50%</th>\n",
       "      <td>17.795000</td>\n",
       "      <td>2.900000</td>\n",
       "      <td>2.000000</td>\n",
       "    </tr>\n",
       "    <tr>\n",
       "      <th>75%</th>\n",
       "      <td>24.127500</td>\n",
       "      <td>3.562500</td>\n",
       "      <td>3.000000</td>\n",
       "    </tr>\n",
       "    <tr>\n",
       "      <th>max</th>\n",
       "      <td>50.810000</td>\n",
       "      <td>10.000000</td>\n",
       "      <td>6.000000</td>\n",
       "    </tr>\n",
       "  </tbody>\n",
       "</table>\n",
       "</div>"
      ],
      "text/plain": [
       "       total_bill         tip        size\n",
       "count  244.000000  244.000000  244.000000\n",
       "mean    19.785943    2.998279    2.569672\n",
       "std      8.902412    1.383638    0.951100\n",
       "min      3.070000    1.000000    1.000000\n",
       "25%     13.347500    2.000000    2.000000\n",
       "50%     17.795000    2.900000    2.000000\n",
       "75%     24.127500    3.562500    3.000000\n",
       "max     50.810000   10.000000    6.000000"
      ]
     },
     "execution_count": 4,
     "metadata": {},
     "output_type": "execute_result"
    }
   ],
   "source": [
    "# Mostrar estadísticas descriptivas\n",
    "print(\"\\nEstadísticas descriptivas:\")\n",
    "df_csv.describe()"
   ]
  },
  {
   "cell_type": "code",
   "execution_count": 5,
   "id": "35b50726",
   "metadata": {},
   "outputs": [
    {
     "name": "stdout",
     "output_type": "stream",
     "text": [
      "\n",
      "Conteo de valores nulos por columna:\n"
     ]
    },
    {
     "data": {
      "text/plain": [
       "total_bill    0\n",
       "tip           0\n",
       "sex           0\n",
       "smoker        0\n",
       "day           0\n",
       "time          0\n",
       "size          0\n",
       "dtype: int64"
      ]
     },
     "execution_count": 5,
     "metadata": {},
     "output_type": "execute_result"
    }
   ],
   "source": [
    "# Contar valores nulos por columna\n",
    "print(\"\\nConteo de valores nulos por columna:\")\n",
    "df_csv.isnull().sum()"
   ]
  },
  {
   "cell_type": "markdown",
   "id": "8d929512",
   "metadata": {},
   "source": [
    "**Explicación:**\n",
    "Hemos utilizado `head()` para ver las primeras filas, `info()` para entender los tipos de datos y la presencia de nulos, `describe()` para estadísticas básicas y `isnull().sum()` para cuantificar los nulos.\n"
   ]
  },
  {
   "cell_type": "markdown",
   "id": "41dcd55b",
   "metadata": {},
   "source": [
    "\n",
    "### **Tarea Adicional para el Estudiante (Compartir Código y Criterios):**\n",
    "\n",
    "*   **Exploración Personalizada:** Elige una columna del dataset `df_tips` que te parezca interesante (ej. `total_bill`, `tip`, `day`) y realiza una exploración más profunda. Por ejemplo:\n",
    "    *   Si es numérica: obtén la media, mediana, desviación estándar manualmente si no usaste `describe()`.\n",
    "    *   Si es categórica: obtén el conteo de valores únicos y la frecuencia de cada categoría.\n",
    "*   ¿Qué métrica o información adicional crees que sería valiosa obtener de la columna que elegiste, y por qué?\n"
   ]
  },
  {
   "cell_type": "code",
   "execution_count": null,
   "id": "618a87f0",
   "metadata": {},
   "outputs": [],
   "source": [
    "# Tu código de exploración personalizada y comentarios aquí\n"
   ]
  },
  {
   "cell_type": "markdown",
   "id": "674e5019",
   "metadata": {},
   "source": [
    "## 3️⃣ Limpieza de datos: nombres, tipos, valores nulos"
   ]
  },
  {
   "cell_type": "code",
   "execution_count": 6,
   "id": "41edafa8",
   "metadata": {},
   "outputs": [
    {
     "name": "stdout",
     "output_type": "stream",
     "text": [
      "\n",
      "Columnas renombradas: Index(['total_bill', 'tip', 'sex', 'smoker', 'day', 'time', 'size'], dtype='object')\n"
     ]
    }
   ],
   "source": [
    "# Renombrar columnas: minúsculas y sin espacios\n",
    "df_csv.columns = [col.lower().strip() for col in df_csv.columns]\n",
    "print(\"\\nColumnas renombradas:\", df_csv.columns)\n"
   ]
  },
  {
   "cell_type": "code",
   "execution_count": 7,
   "id": "2300a2ea",
   "metadata": {},
   "outputs": [
    {
     "name": "stdout",
     "output_type": "stream",
     "text": [
      "\n",
      "Tipo de dato de 'tip' actualizado: float64\n"
     ]
    }
   ],
   "source": [
    "# Convertir tipo de dato de la columna 'tip' a float\n",
    "df_csv['tip'] = df_csv['tip'].astype(float)\n",
    "print(\"\\nTipo de dato de 'tip' actualizado:\", df_csv['tip'].dtype)\n"
   ]
  },
  {
   "cell_type": "code",
   "execution_count": 8,
   "id": "7a0c5b7c",
   "metadata": {},
   "outputs": [
    {
     "name": "stdout",
     "output_type": "stream",
     "text": [
      "\n",
      "Filas antes de dropna: 244\n",
      "\n",
      "Dataset después de limpieza básica:\n"
     ]
    },
    {
     "data": {
      "text/html": [
       "<div>\n",
       "<style scoped>\n",
       "    .dataframe tbody tr th:only-of-type {\n",
       "        vertical-align: middle;\n",
       "    }\n",
       "\n",
       "    .dataframe tbody tr th {\n",
       "        vertical-align: top;\n",
       "    }\n",
       "\n",
       "    .dataframe thead th {\n",
       "        text-align: right;\n",
       "    }\n",
       "</style>\n",
       "<table border=\"1\" class=\"dataframe\">\n",
       "  <thead>\n",
       "    <tr style=\"text-align: right;\">\n",
       "      <th></th>\n",
       "      <th>total_bill</th>\n",
       "      <th>tip</th>\n",
       "      <th>sex</th>\n",
       "      <th>smoker</th>\n",
       "      <th>day</th>\n",
       "      <th>time</th>\n",
       "      <th>size</th>\n",
       "    </tr>\n",
       "  </thead>\n",
       "  <tbody>\n",
       "    <tr>\n",
       "      <th>0</th>\n",
       "      <td>16.99</td>\n",
       "      <td>1.01</td>\n",
       "      <td>Female</td>\n",
       "      <td>No</td>\n",
       "      <td>Sun</td>\n",
       "      <td>Dinner</td>\n",
       "      <td>2</td>\n",
       "    </tr>\n",
       "    <tr>\n",
       "      <th>1</th>\n",
       "      <td>10.34</td>\n",
       "      <td>1.66</td>\n",
       "      <td>Male</td>\n",
       "      <td>No</td>\n",
       "      <td>Sun</td>\n",
       "      <td>Dinner</td>\n",
       "      <td>3</td>\n",
       "    </tr>\n",
       "    <tr>\n",
       "      <th>2</th>\n",
       "      <td>21.01</td>\n",
       "      <td>3.50</td>\n",
       "      <td>Male</td>\n",
       "      <td>No</td>\n",
       "      <td>Sun</td>\n",
       "      <td>Dinner</td>\n",
       "      <td>3</td>\n",
       "    </tr>\n",
       "    <tr>\n",
       "      <th>3</th>\n",
       "      <td>23.68</td>\n",
       "      <td>3.31</td>\n",
       "      <td>Male</td>\n",
       "      <td>No</td>\n",
       "      <td>Sun</td>\n",
       "      <td>Dinner</td>\n",
       "      <td>2</td>\n",
       "    </tr>\n",
       "    <tr>\n",
       "      <th>4</th>\n",
       "      <td>24.59</td>\n",
       "      <td>3.61</td>\n",
       "      <td>Female</td>\n",
       "      <td>No</td>\n",
       "      <td>Sun</td>\n",
       "      <td>Dinner</td>\n",
       "      <td>4</td>\n",
       "    </tr>\n",
       "  </tbody>\n",
       "</table>\n",
       "</div>"
      ],
      "text/plain": [
       "   total_bill   tip     sex smoker  day    time  size\n",
       "0       16.99  1.01  Female     No  Sun  Dinner     2\n",
       "1       10.34  1.66    Male     No  Sun  Dinner     3\n",
       "2       21.01  3.50    Male     No  Sun  Dinner     3\n",
       "3       23.68  3.31    Male     No  Sun  Dinner     2\n",
       "4       24.59  3.61  Female     No  Sun  Dinner     4"
      ]
     },
     "execution_count": 8,
     "metadata": {},
     "output_type": "execute_result"
    }
   ],
   "source": [
    "# Eliminar filas con valores nulos (si los hubiera identificado antes)\n",
    "print(f\"\\nFilas antes de dropna: {len(df_csv)}\")\n",
    "\n",
    "df_csv.dropna(inplace=True)\n",
    "print(\"\\nDataset después de limpieza básica:\")\n",
    "df_csv.head()"
   ]
  },
  {
   "cell_type": "markdown",
   "id": "f31c7d33",
   "metadata": {},
   "source": [
    "**Explicación:**\n",
    "Hemos limpiado los nombres de las columnas para facilitar su uso y asegurado que la columna `tip` sea un número flotante. También eliminamos filas con datos faltantes para evitar problemas en análisis posteriores.\n"
   ]
  },
  {
   "cell_type": "markdown",
   "id": "15fe2c0c",
   "metadata": {},
   "source": [
    "### **Tarea Adicional para el Estudiante (Compartir Código y Criterios):**\n",
    "\n",
    "*   **Manejo de Nulos Alternativo:** En lugar de `dropna()`, ¿cómo podrías haber manejado los valores nulos de la columna `tip` si hubieran sido muchos? (Pista: piensa en imputación de valores). Escribe el código para imputar la media de la columna `tip` a los valores nulos.\n",
    "*   ¿Cuándo preferirías imputar valores en lugar de eliminarlos, y viceversa?\n"
   ]
  },
  {
   "cell_type": "code",
   "execution_count": null,
   "id": "26263c85",
   "metadata": {},
   "outputs": [],
   "source": [
    "# Tu código para imputar valores nulos y comentarios aquí"
   ]
  },
  {
   "cell_type": "markdown",
   "id": "1931677c",
   "metadata": {},
   "source": [
    "## 4️⃣ Lectura de archivos Excel"
   ]
  },
  {
   "cell_type": "markdown",
   "id": "d886b5fa",
   "metadata": {},
   "source": [
    "Pandas puede leer directamente archivos Excel utilizando el motor `openpyxl`. Esto es muy útil para datos que provienen de hojas de cálculo."
   ]
  },
  {
   "cell_type": "code",
   "execution_count": 20,
   "id": "06334dc2",
   "metadata": {},
   "outputs": [
    {
     "name": "stdout",
     "output_type": "stream",
     "text": [
      "Archivo Excel cargado exitosamente.\n",
      "Primeras 5 filas del archivo Excel:\n",
      "  first_name last_name                               email  \\\n",
      "0     Joseph      Rice      josephrice131@slingacademy.com   \n",
      "1       Gary     Moore       garymoore386@slingacademy.com   \n",
      "2       John    Walker      johnwalker944@slingacademy.com   \n",
      "3       Eric    Carter      ericcarter176@slingacademy.com   \n",
      "4    William   Jackson  williamjackson427@slingacademy.com   \n",
      "\n",
      "                  phone                                   address gender  age  \\\n",
      "0  +1-800-040-3135x6208    91773 Miller Shoal\\nDiaztown, FL 38841   male   43   \n",
      "1     221.945.4191x8872       6450 John Lodge\\nTerriton, KY 95945   male   71   \n",
      "2     388-142-4883x5370  27265 Murray Island\\nKevinfort, PA 63231   male   44   \n",
      "3         (451)259-5402                 USNS Knight\\nFPO AA 76532   male   38   \n",
      "4      625.626.9133x374   170 Jackson Loaf\\nKristenland, AS 48876   male   58   \n",
      "\n",
      "  registered  orders   spent       job                      hobbies  \\\n",
      "0 2019-05-05       7  568.29    Artist               Playing sports   \n",
      "1 2020-05-20      11  568.92    Artist                     Swimming   \n",
      "2 2020-04-04      11  497.12     Clerk                     Painting   \n",
      "3 2019-01-30      17  834.60   Butcher  Playing musical instruments   \n",
      "4 2022-07-01      14  151.59  Engineer                      Reading   \n",
      "\n",
      "   is_married  \n",
      "0       False  \n",
      "1        True  \n",
      "2       False  \n",
      "3       False  \n",
      "4       False  \n"
     ]
    }
   ],
   "source": [
    "# Cargar un archivo Excel desde una URL (requiere la librería openpyxl)\n",
    "try:\n",
    "    df_customers = pd.read_excel(\n",
    "        \"https://api.slingacademy.com/v1/sample-data/files/customers.xlsx\",\n",
    "        engine=\"openpyxl\"\n",
    "    )\n",
    "    print(\"Archivo Excel cargado exitosamente.\")\n",
    "    print(\"Primeras 5 filas del archivo Excel:\")\n",
    "    print(df_customers.head())\n",
    "\n",
    "    \n",
    "except Exception as e:\n",
    "    print(f\"Error al cargar el archivo Excel: {e}\")\n",
    "    print(\"Asegúrate de tener instalada la librería 'openpyxl' (pip install openpyxl)\")\n"
   ]
  },
  {
   "cell_type": "code",
   "execution_count": 21,
   "id": "9d8ec19f",
   "metadata": {},
   "outputs": [
    {
     "data": {
      "text/html": [
       "<div>\n",
       "<style scoped>\n",
       "    .dataframe tbody tr th:only-of-type {\n",
       "        vertical-align: middle;\n",
       "    }\n",
       "\n",
       "    .dataframe tbody tr th {\n",
       "        vertical-align: top;\n",
       "    }\n",
       "\n",
       "    .dataframe thead th {\n",
       "        text-align: right;\n",
       "    }\n",
       "</style>\n",
       "<table border=\"1\" class=\"dataframe\">\n",
       "  <thead>\n",
       "    <tr style=\"text-align: right;\">\n",
       "      <th></th>\n",
       "      <th>first_name</th>\n",
       "      <th>last_name</th>\n",
       "      <th>email</th>\n",
       "      <th>phone</th>\n",
       "      <th>address</th>\n",
       "      <th>gender</th>\n",
       "      <th>age</th>\n",
       "      <th>registered</th>\n",
       "      <th>orders</th>\n",
       "      <th>spent</th>\n",
       "      <th>job</th>\n",
       "      <th>hobbies</th>\n",
       "      <th>is_married</th>\n",
       "    </tr>\n",
       "  </thead>\n",
       "  <tbody>\n",
       "    <tr>\n",
       "      <th>0</th>\n",
       "      <td>Joseph</td>\n",
       "      <td>Rice</td>\n",
       "      <td>josephrice131@slingacademy.com</td>\n",
       "      <td>+1-800-040-3135x6208</td>\n",
       "      <td>91773 Miller Shoal\\nDiaztown, FL 38841</td>\n",
       "      <td>male</td>\n",
       "      <td>43</td>\n",
       "      <td>2019-05-05</td>\n",
       "      <td>7</td>\n",
       "      <td>568.29</td>\n",
       "      <td>Artist</td>\n",
       "      <td>Playing sports</td>\n",
       "      <td>False</td>\n",
       "    </tr>\n",
       "    <tr>\n",
       "      <th>1</th>\n",
       "      <td>Gary</td>\n",
       "      <td>Moore</td>\n",
       "      <td>garymoore386@slingacademy.com</td>\n",
       "      <td>221.945.4191x8872</td>\n",
       "      <td>6450 John Lodge\\nTerriton, KY 95945</td>\n",
       "      <td>male</td>\n",
       "      <td>71</td>\n",
       "      <td>2020-05-20</td>\n",
       "      <td>11</td>\n",
       "      <td>568.92</td>\n",
       "      <td>Artist</td>\n",
       "      <td>Swimming</td>\n",
       "      <td>True</td>\n",
       "    </tr>\n",
       "    <tr>\n",
       "      <th>2</th>\n",
       "      <td>John</td>\n",
       "      <td>Walker</td>\n",
       "      <td>johnwalker944@slingacademy.com</td>\n",
       "      <td>388-142-4883x5370</td>\n",
       "      <td>27265 Murray Island\\nKevinfort, PA 63231</td>\n",
       "      <td>male</td>\n",
       "      <td>44</td>\n",
       "      <td>2020-04-04</td>\n",
       "      <td>11</td>\n",
       "      <td>497.12</td>\n",
       "      <td>Clerk</td>\n",
       "      <td>Painting</td>\n",
       "      <td>False</td>\n",
       "    </tr>\n",
       "    <tr>\n",
       "      <th>3</th>\n",
       "      <td>Eric</td>\n",
       "      <td>Carter</td>\n",
       "      <td>ericcarter176@slingacademy.com</td>\n",
       "      <td>(451)259-5402</td>\n",
       "      <td>USNS Knight\\nFPO AA 76532</td>\n",
       "      <td>male</td>\n",
       "      <td>38</td>\n",
       "      <td>2019-01-30</td>\n",
       "      <td>17</td>\n",
       "      <td>834.60</td>\n",
       "      <td>Butcher</td>\n",
       "      <td>Playing musical instruments</td>\n",
       "      <td>False</td>\n",
       "    </tr>\n",
       "    <tr>\n",
       "      <th>4</th>\n",
       "      <td>William</td>\n",
       "      <td>Jackson</td>\n",
       "      <td>williamjackson427@slingacademy.com</td>\n",
       "      <td>625.626.9133x374</td>\n",
       "      <td>170 Jackson Loaf\\nKristenland, AS 48876</td>\n",
       "      <td>male</td>\n",
       "      <td>58</td>\n",
       "      <td>2022-07-01</td>\n",
       "      <td>14</td>\n",
       "      <td>151.59</td>\n",
       "      <td>Engineer</td>\n",
       "      <td>Reading</td>\n",
       "      <td>False</td>\n",
       "    </tr>\n",
       "  </tbody>\n",
       "</table>\n",
       "</div>"
      ],
      "text/plain": [
       "  first_name last_name                               email  \\\n",
       "0     Joseph      Rice      josephrice131@slingacademy.com   \n",
       "1       Gary     Moore       garymoore386@slingacademy.com   \n",
       "2       John    Walker      johnwalker944@slingacademy.com   \n",
       "3       Eric    Carter      ericcarter176@slingacademy.com   \n",
       "4    William   Jackson  williamjackson427@slingacademy.com   \n",
       "\n",
       "                  phone                                   address gender  age  \\\n",
       "0  +1-800-040-3135x6208    91773 Miller Shoal\\nDiaztown, FL 38841   male   43   \n",
       "1     221.945.4191x8872       6450 John Lodge\\nTerriton, KY 95945   male   71   \n",
       "2     388-142-4883x5370  27265 Murray Island\\nKevinfort, PA 63231   male   44   \n",
       "3         (451)259-5402                 USNS Knight\\nFPO AA 76532   male   38   \n",
       "4      625.626.9133x374   170 Jackson Loaf\\nKristenland, AS 48876   male   58   \n",
       "\n",
       "  registered  orders   spent       job                      hobbies  \\\n",
       "0 2019-05-05       7  568.29    Artist               Playing sports   \n",
       "1 2020-05-20      11  568.92    Artist                     Swimming   \n",
       "2 2020-04-04      11  497.12     Clerk                     Painting   \n",
       "3 2019-01-30      17  834.60   Butcher  Playing musical instruments   \n",
       "4 2022-07-01      14  151.59  Engineer                      Reading   \n",
       "\n",
       "   is_married  \n",
       "0       False  \n",
       "1        True  \n",
       "2       False  \n",
       "3       False  \n",
       "4       False  "
      ]
     },
     "execution_count": 21,
     "metadata": {},
     "output_type": "execute_result"
    }
   ],
   "source": [
    "df_customers.head()"
   ]
  },
  {
   "cell_type": "markdown",
   "id": "edd1eafe",
   "metadata": {},
   "source": [
    "### **Tarea Adicional para el Estudiante (Compartir Código y Criterios):**\n",
    "\n",
    "\n",
    "*   **Inspección del Excel:** Observa las columnas y los tipos de datos del `df_customers` cargado. Si alguna columna no tiene el tipo de dato correcto, o si hay valores faltantes, aplica una corrección básica (ej. renombrar una columna, convertir un tipo, o eliminar filas nulas si es necesario).\n",
    "\n",
    "*    ¿Qué información adicional te gustaría poder extraer o transformar de este archivo Excel, y qué función de Pandas podrías usar para ello?\n",
    "\n",
    "*    **Limpieza básica:** \n",
    "\n",
    "        Normalizar columnas con lower() y strip().\n",
    "        Convertir fechas (registered) a tipo datetime.\n",
    "        Manejar valores nulos (dropna() o fillna()).\n",
    "\n",
    "*    **Análisis y agregaciones:**\n",
    "\n",
    "        Agrupar por edad, país, empleo o estado civil.\n",
    "        Calcular métricas como promedio de gasto (spent) o número de órdenes (orders).\n",
    "\n",
    "*    **Visualización:**\n",
    "\n",
    "        Usar seaborn para gráficos de distribución por edad y gasto.\n",
    "        Visualizar correlaciones mediante pairplot o scatterplot."
   ]
  },
  {
   "cell_type": "code",
   "execution_count": null,
   "id": "38f81a7d",
   "metadata": {},
   "outputs": [],
   "source": [
    "# Tu código de inspección/corrección del Excel y comentarios aquí"
   ]
  },
  {
   "cell_type": "markdown",
   "id": "7340c6c6",
   "metadata": {},
   "source": [
    "## 5️⃣ Lectura y manipulación de datos JSON"
   ]
  },
  {
   "cell_type": "markdown",
   "id": "ad32f520",
   "metadata": {},
   "source": [
    "Pandas puede leer directamente datos JSON desde una URL de API. La columna `address` es un ejemplo de estructura anidada que podríamos necesitar \"aplanar\" o procesar."
   ]
  },
  {
   "cell_type": "code",
   "execution_count": 22,
   "id": "d1eee4e7",
   "metadata": {},
   "outputs": [
    {
     "name": "stdout",
     "output_type": "stream",
     "text": [
      "Datos JSON de usuarios cargados exitosamente.\n",
      "Columnas relevantes (name, email, address):\n",
      "               name                      email  \\\n",
      "0     Leanne Graham          Sincere@april.biz   \n",
      "1      Ervin Howell          Shanna@melissa.tv   \n",
      "2  Clementine Bauch         Nathan@yesenia.net   \n",
      "3  Patricia Lebsack  Julianne.OConner@kory.org   \n",
      "4  Chelsey Dietrich   Lucio_Hettinger@annie.ca   \n",
      "\n",
      "                                             address  \n",
      "0  {'street': 'Kulas Light', 'suite': 'Apt. 556',...  \n",
      "1  {'street': 'Victor Plains', 'suite': 'Suite 87...  \n",
      "2  {'street': 'Douglas Extension', 'suite': 'Suit...  \n",
      "3  {'street': 'Hoeger Mall', 'suite': 'Apt. 692',...  \n",
      "4  {'street': 'Skiles Walks', 'suite': 'Suite 351...  \n",
      "\n",
      "Estructura de la columna 'address':\n",
      "{'street': 'Kulas Light', 'suite': 'Apt. 556', 'city': 'Gwenborough', 'zipcode': '92998-3874', 'geo': {'lat': '-37.3159', 'lng': '81.1496'}}\n"
     ]
    }
   ],
   "source": [
    "# API de ejemplo: Usuarios de JSONPlaceholder\n",
    "try:\n",
    "    json_url = 'https://jsonplaceholder.typicode.com/users'\n",
    "    df_json = pd.read_json(json_url)\n",
    "    print(\"Datos JSON de usuarios cargados exitosamente.\")\n",
    "    print(\"Columnas relevantes (name, email, address):\")\n",
    "    # Seleccionar y mostrar algunas columnas clave\n",
    "    print(df_json[['name', 'email', 'address']].head())\n",
    "\n",
    "    # Explorar la estructura de la columna 'address'\n",
    "    print(\"\\nEstructura de la columna 'address':\")\n",
    "    print(df_json['address'].iloc[0]) # Muestra el primer registro de la columna address\n",
    "\n",
    "except Exception as e:\n",
    "    print(f\"Error al cargar datos JSON desde la API: {e}\")\n"
   ]
  },
  {
   "cell_type": "markdown",
   "id": "eebcb96a",
   "metadata": {},
   "source": [
    "**Tarea Adicional para el Estudiante (Compartir Código y Criterios):**\n",
    "\n",
    "*   **Aplanar la Columna 'address':** Crea nuevas columnas para la `calle` y la `ciudad` extrayéndolas del diccionario de la columna `address`. Utiliza el método `.apply()` con una función lambda o `.str.get()` si la estructura es consistente.\n",
    "*   ¿Qué otras formas podrías usar para obtener información de estructuras de datos anidadas en Python (más allá de `apply` con lambda)? Menciona una técnica o librería.\n"
   ]
  },
  {
   "cell_type": "code",
   "execution_count": null,
   "id": "c93c65e6",
   "metadata": {},
   "outputs": [],
   "source": [
    "# Tu código para aplanar 'address' y comentarios aquí"
   ]
  },
  {
   "cell_type": "markdown",
   "id": "fa72f0be",
   "metadata": {},
   "source": [
    "## 6️⃣ Conexión y consulta básica en SQLite"
   ]
  },
  {
   "cell_type": "markdown",
   "id": "9a9593bb",
   "metadata": {},
   "source": [
    "Hemos usado la librería `sqlite3` para crear una base de datos en memoria, definir una tabla, insertar datos y realizar una consulta básica."
   ]
  },
  {
   "cell_type": "code",
   "execution_count": 24,
   "id": "39030b04",
   "metadata": {},
   "outputs": [
    {
     "name": "stdout",
     "output_type": "stream",
     "text": [
      "Conexión a base de datos SQLite en memoria establecida.\n",
      "Tabla 'empleados' creada.\n",
      "Datos insertados en la tabla 'empleados'.\n",
      "\n",
      "Consulta de todos los empleados:\n",
      "[('Alice', 'Data Scientist'), ('Bob', 'Data Engineer'), ('Charlie', 'Analista BI')]\n",
      "\n",
      "Conexión a SQLite cerrada.\n"
     ]
    }
   ],
   "source": [
    "import sqlite3\n",
    "\n",
    "# Conectar a una base de datos en memoria (no se guarda al cerrar)\n",
    "conn = sqlite3.connect(':memory:')\n",
    "print(\"Conexión a base de datos SQLite en memoria establecida.\")\n",
    "\n",
    "# Crear una tabla simple\n",
    "cursor = conn.cursor()\n",
    "cursor.execute(\"CREATE TABLE IF NOT EXISTS empleados (id INTEGER PRIMARY KEY, nombre TEXT, puesto TEXT)\")\n",
    "print(\"Tabla 'empleados' creada.\")\n",
    "\n",
    "# Insertar algunos datos\n",
    "empleados_data = [\n",
    "    ('Alice', 'Data Scientist'),\n",
    "    ('Bob', 'Data Engineer'),\n",
    "    ('Charlie', 'Analista BI')\n",
    "]\n",
    "cursor.executemany(\"INSERT INTO empleados (nombre, puesto) VALUES (?, ?)\", empleados_data)\n",
    "conn.commit() # Guardar los cambios\n",
    "print(\"Datos insertados en la tabla 'empleados'.\")\n",
    "\n",
    "# Realizar una consulta\n",
    "print(\"\\nConsulta de todos los empleados:\")\n",
    "cursor.execute(\"SELECT nombre, puesto FROM empleados\")\n",
    "# Fetchall recupera todos los resultados de la consulta\n",
    "resultados_sqlite = cursor.fetchall()\n",
    "print(resultados_sqlite)\n",
    "\n",
    "# Cerrar la conexión\n",
    "conn.close()\n",
    "print(\"\\nConexión a SQLite cerrada.\")\n",
    "\n"
   ]
  },
  {
   "cell_type": "markdown",
   "id": "9883388c",
   "metadata": {},
   "source": [
    "**Tarea Adicional para el Estudiante (Compartir Código y Criterios):**\n",
    "\n",
    "*   **Consulta Filtrada:** Modifica la consulta SQL para obtener solo los empleados cuyo `puesto` sea 'Data Scientist'. Luego, usa `pd.read_sql_query()` para leer el resultado directamente en un DataFrame de Pandas.\n",
    "*   ¿Cuándo preferirías usar `sqlite3` directamente vs. usar `pd.read_sql_query()`? ¿Qué ventajas ves en cada enfoque?\n"
   ]
  },
  {
   "cell_type": "code",
   "execution_count": null,
   "id": "c6b06c53",
   "metadata": {},
   "outputs": [],
   "source": [
    "# Tu código para la consulta filtrada y comentarios aquí"
   ]
  },
  {
   "cell_type": "code",
   "execution_count": 25,
   "id": "13042308",
   "metadata": {},
   "outputs": [
    {
     "name": "stdout",
     "output_type": "stream",
     "text": [
      "Conexión a base de datos SQLite en memoria establecida.\n",
      "Tabla 'empleados' creada.\n"
     ]
    },
    {
     "data": {
      "text/html": [
       "<div>\n",
       "<style scoped>\n",
       "    .dataframe tbody tr th:only-of-type {\n",
       "        vertical-align: middle;\n",
       "    }\n",
       "\n",
       "    .dataframe tbody tr th {\n",
       "        vertical-align: top;\n",
       "    }\n",
       "\n",
       "    .dataframe thead th {\n",
       "        text-align: right;\n",
       "    }\n",
       "</style>\n",
       "<table border=\"1\" class=\"dataframe\">\n",
       "  <thead>\n",
       "    <tr style=\"text-align: right;\">\n",
       "      <th></th>\n",
       "      <th>sex</th>\n",
       "      <th>avg_bill</th>\n",
       "    </tr>\n",
       "  </thead>\n",
       "  <tbody>\n",
       "    <tr>\n",
       "      <th>0</th>\n",
       "      <td>Female</td>\n",
       "      <td>18.056897</td>\n",
       "    </tr>\n",
       "    <tr>\n",
       "      <th>1</th>\n",
       "      <td>Male</td>\n",
       "      <td>20.744076</td>\n",
       "    </tr>\n",
       "  </tbody>\n",
       "</table>\n",
       "</div>"
      ],
      "text/plain": [
       "      sex   avg_bill\n",
       "0  Female  18.056897\n",
       "1    Male  20.744076"
      ]
     },
     "execution_count": 25,
     "metadata": {},
     "output_type": "execute_result"
    }
   ],
   "source": [
    "# Conectar a una base de datos en memoria (no se guarda al cerrar)\n",
    "conn = sqlite3.connect(':memory:')\n",
    "print(\"Conexión a base de datos SQLite en memoria establecida.\")\n",
    "df_csv.to_sql('tips', conn, index=False)\n",
    "consulta = pd.read_sql_query('SELECT sex, AVG(total_bill) as avg_bill FROM tips GROUP BY sex', conn)\n",
    "print(\"Tabla 'empleados' creada.\")\n",
    "consulta"
   ]
  },
  {
   "cell_type": "markdown",
   "id": "7ee22f04",
   "metadata": {},
   "source": [
    "🔍 **Explicación línea por línea:**\n",
    "\n",
    "   **✅ conn = sqlite3.connect(':memory:')**\n",
    "    \n",
    ">   - ¿Qué hace? Crea una base de datos SQLite temporal en memoria RAM (no se guarda en disco).\n",
    "\n",
    ">   - ¿Por qué usar :memory:? Es útil para pruebas, demostraciones o procesamiento rápido sin necesidad de un archivo físico.\n",
    "\n",
    ">    - Devuelve un objeto Connection llamado conn, que se usará para interactuar con la base de datos.\n",
    "\n",
    "   **✅ df_csv.to_sql('tips', conn, index=False)**\n",
    "        \n",
    ">   -    ¿Qué hace?  Toma el DataFrame df_csv (por ejemplo, tips.csv) y lo convierte en una tabla llamada tips dentro de la base de datos creada.\n",
    ">   -    conn: es la conexión que creamos previamente.\n",
    ">   -    'tips': es el nombre de la tabla SQL que se creará.\n",
    ">   -    index=False: evita que se agregue la columna de índice de pandas a la tabla SQL.\n",
    "\n",
    "   **✅ consulta = pd.read_sql_query('SELECT sex, AVG(total_bill) as avg_bill FROM tips GROUP BY sex', conn)**\n",
    "\n",
    ">   -     ¿Qué hace? Ejecuta una consulta SQL sobre la base SQLite y devuelve el resultado como un nuevo DataFrame de pandas.\n",
    ">   -     SELECT sex, AVG(total_bill) as avg_bill: selecciona la columna sex y calcula el promedio de la columna total_bill, renombrándola como avg_bill.\n",
    ">   -     FROM tips: indica que la consulta se hace sobre la tabla tips.\n",
    ">   -     GROUP BY sex: agrupa los registros por género (sex), por lo que obtendrás una fila por cada género (Male, Female, etc.) con su respectivo promedio de cuenta."
   ]
  },
  {
   "cell_type": "markdown",
   "id": "84fde381",
   "metadata": {},
   "source": [
    "### **Tarea Adicional para el Estudiante (Compartir Código y Criterios):**\n",
    "\n",
    "- Leer un archivo JSON desde una URL.\n",
    "- Crear una tabla SQLite con los datos.\n",
    "- Consultar promedio de alguna columna agrupada por una categoría textual."
   ]
  },
  {
   "cell_type": "code",
   "execution_count": null,
   "id": "14004a2c",
   "metadata": {},
   "outputs": [],
   "source": [
    "# Tu código y comentarios aquí"
   ]
  }
 ],
 "metadata": {
  "kernelspec": {
   "display_name": "Python 3",
   "language": "python",
   "name": "python3"
  },
  "language_info": {
   "codemirror_mode": {
    "name": "ipython",
    "version": 3
   },
   "file_extension": ".py",
   "mimetype": "text/x-python",
   "name": "python",
   "nbconvert_exporter": "python",
   "pygments_lexer": "ipython3",
   "version": "3.13.5"
  }
 },
 "nbformat": 4,
 "nbformat_minor": 5
}
